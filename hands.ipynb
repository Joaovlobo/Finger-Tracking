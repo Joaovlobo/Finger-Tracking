{
 "cells": [
  {
   "cell_type": "code",
   "execution_count": null,
   "metadata": {},
   "outputs": [],
   "source": [
    "%pip install opencv-python\n",
    "%pip install mediapipe"
   ]
  },
  {
   "cell_type": "code",
   "execution_count": 2,
   "metadata": {},
   "outputs": [],
   "source": [
    "import cv2\n",
    "import mediapipe as mp\n",
    "\n",
    "#o opencv lê as imagens em BGR por padrao\n",
    "#o mediapipe lê as imagens em RGB por padrao\n",
    "#estar atento a isso, e padronizar"
   ]
  },
  {
   "cell_type": "code",
   "execution_count": 3,
   "metadata": {},
   "outputs": [],
   "source": [
    "webcam = cv2.VideoCapture(0) #cria a conexao com a webcam\n",
    "\n",
    "#inicializando o mediapipe\n",
    "reconhecimento_maos = mp.solutions.hands  #escolhe a solucao do mediapipe\n",
    "maos = reconhecimento_maos.Hands()\n",
    "desenho_mp = mp.solutions.drawing_utils  #solucao que desenha as coisas\n",
    "\n",
    "#ser der certo conectar com a webcam\n",
    "if webcam.isOpened():\n",
    "\n",
    "    #ler a webcam (um unico frame)\n",
    "    #ele le uma tupla: true, [matriz np com pixels]\n",
    "    #unpacking da tupla\n",
    "    validacao, frame = webcam.read()\n",
    "\n",
    "    #loop infinito para ficar pegando os frames\n",
    "    #se validacao é true\n",
    "    while validacao:\n",
    "        validacao, frame = webcam.read()\n",
    "        #converte BGR(padrao do opencv) em RGB(padrao mediapipe)\n",
    "        frameRGB = cv2.cvtColor(frame, cv2.COLOR_BGR2RGB)\n",
    "\n",
    "\n",
    "        #reconhecendo as maos\n",
    "        lista_maos = maos.process(frameRGB)\n",
    "        #desenhar as maos\n",
    "        if lista_maos.multi_hand_landmarks:\n",
    "            for mao in lista_maos.multi_hand_landmarks:\n",
    "                desenho_mp.draw_landmarks(frame, mao, reconhecimento_maos.HAND_CONNECTIONS, \n",
    "                                            desenho_mp.DrawingSpec(color=(255,0,0), thickness=2, circle_radius=5),\n",
    "                                            desenho_mp.DrawingSpec(color=(0,255,0), thickness=2, circle_radius=2),)\n",
    "\n",
    "\n",
    "        #mostrar o frame da webcam que o python ta vendo\n",
    "        cv2.imshow('Video da Webcam', frame)\n",
    "        #mandar o python esperar um pouquinho -> de um jeito inteligente\n",
    "        #ele pega a tecla para finalizar a conexao\n",
    "\n",
    "        tecla = cv2.waitKey(2) #2 milissegundos = 30fps\n",
    "\n",
    "        #mandar ele parar o codigo se eu clicar no ESC (tecla 27 no opencv e ascii)\n",
    "        if tecla == 27:\n",
    "            break\n",
    "\n",
    "    #desliga a conexao com a webcam\n",
    "    webcam.release()\n",
    "    cv2.destroyAllWindows()"
   ]
  }
 ],
 "metadata": {
  "kernelspec": {
   "display_name": ".venv",
   "language": "python",
   "name": "python3"
  },
  "language_info": {
   "codemirror_mode": {
    "name": "ipython",
    "version": 3
   },
   "file_extension": ".py",
   "mimetype": "text/x-python",
   "name": "python",
   "nbconvert_exporter": "python",
   "pygments_lexer": "ipython3",
   "version": "3.11.1"
  }
 },
 "nbformat": 4,
 "nbformat_minor": 2
}
